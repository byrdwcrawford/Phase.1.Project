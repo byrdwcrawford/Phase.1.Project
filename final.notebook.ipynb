{
 "cells": [
  {
   "cell_type": "markdown",
   "metadata": {},
   "source": [
    "# Business Understanding"
   ]
  },
  {
   "cell_type": "markdown",
   "metadata": {},
   "source": [
    "- This Project analyzes the Aviation Accident Database from the National Transportation Safety Board which includes accident data from 1962-2023.\n",
    "- We are determining if the Personal and Public airline industry is a viable business option for expansion.   \n",
    "- Analysis shows that while all planes crash, certain Models are safer and therefore reduce liability and risk.  Analysis of Weather, severity of damage to the plane, phase of flight, and total fatal injuries can be used to determine the best options for the business."
   ]
  },
  {
   "cell_type": "markdown",
   "metadata": {},
   "source": [
    "# Data Understanding"
   ]
  },
  {
   "cell_type": "markdown",
   "metadata": {},
   "source": [
    "- This Project analyzes the Aviation Accident Database from the National Transportation Safety Board which includes accident data from 1962-2023.\n",
    "- The CSV file was donwloaded from Kaggle.  This is a public website with various datasets.  This is effectively all US crash data since the 60's.\n",
    "- There are 88889 entries with 30 different attributes for each entry.  Attributes include Make and Model of plane, purpose of flight, aircraft damage, location of crash, and arcraft damage to name a few."
   ]
  },
  {
   "cell_type": "markdown",
   "metadata": {},
   "source": [
    "# Data Preperation"
   ]
  },
  {
   "cell_type": "markdown",
   "metadata": {},
   "source": [
    "* Start by importing libraries for analysis and data cleaning\n",
    "* Checking for whitespaces and empty cells\n",
    "* Removing NaN values and duplicates from df\n",
    "* Creating new df 'df_1985' for analysis"
   ]
  },
  {
   "cell_type": "code",
   "execution_count": null,
   "metadata": {},
   "outputs": [],
   "source": [
    "# import libraries for data analysis\n",
    "import pandas as pd\n",
    "import numpy as np\n",
    "import seaborn as sns\n",
    "import matplotlib.pyplot as plt\n",
    "\n",
    "%matplotlib inline"
   ]
  },
  {
   "cell_type": "code",
   "execution_count": null,
   "metadata": {
    "scrolled": true
   },
   "outputs": [],
   "source": [
    "#loading the AviationData.csv file\n",
    "# using encoding 'Latin-1' to handle values\n",
    "df = pd.read_csv('data/AviationData.csv',\n",
    "                 encoding='Latin-1',\n",
    "                 low_memory=False,\n",
    "                 dtype=str)  \n",
    "df.head()"
   ]
  },
  {
   "cell_type": "code",
   "execution_count": null,
   "metadata": {},
   "outputs": [],
   "source": [
    "#determining shape of dataset\n",
    "df.shape"
   ]
  },
  {
   "cell_type": "code",
   "execution_count": null,
   "metadata": {},
   "outputs": [],
   "source": [
    "#examinig null values\n",
    "df.info()"
   ]
  },
  {
   "cell_type": "code",
   "execution_count": null,
   "metadata": {},
   "outputs": [],
   "source": [
    "#setting Event.Id as index\n",
    "df = pd.read_csv('data/AviationData.csv', index_col = 0,\n",
    "                 encoding='Latin-1',\n",
    "                 low_memory=False,\n",
    "                 dtype=str)\n",
    "df"
   ]
  },
  {
   "cell_type": "code",
   "execution_count": null,
   "metadata": {
    "scrolled": false
   },
   "outputs": [],
   "source": [
    "# Calculating NaN values sum for each column\n",
    "df.isna().sum()"
   ]
  },
  {
   "cell_type": "code",
   "execution_count": null,
   "metadata": {},
   "outputs": [],
   "source": [
    "#Removing whitespaces from column names\n",
    "df.columns = df.columns.str.strip()"
   ]
  },
  {
   "cell_type": "code",
   "execution_count": null,
   "metadata": {
    "scrolled": false
   },
   "outputs": [],
   "source": [
    "#checking how many aircrafts are Airplanes\n",
    "(df['Aircraft.Category'] == 'Airplane').value_counts()"
   ]
  },
  {
   "cell_type": "code",
   "execution_count": null,
   "metadata": {
    "scrolled": true
   },
   "outputs": [],
   "source": [
    "# Keeping only rows where the Aircraft is an Airplane.  \n",
    "# Creating a new df where Aircraft.Category is equal to Airplane and reassigning it df\n",
    "df= df[df['Aircraft.Category'] == 'Airplane']\n",
    "# Pulling series to briefly spot check Aircraft.Category column\n",
    "df['Aircraft.Category']"
   ]
  },
  {
   "cell_type": "code",
   "execution_count": null,
   "metadata": {
    "scrolled": true
   },
   "outputs": [],
   "source": [
    "#keeping rows where the Airplanes are NOT built by amateurs\n",
    "df = df[df['Amateur.Built'] =='No']\n",
    "\n",
    "df['Amateur.Built']"
   ]
  },
  {
   "cell_type": "code",
   "execution_count": null,
   "metadata": {
    "scrolled": true
   },
   "outputs": [],
   "source": [
    "# Determining value type\n",
    "type(df['Total.Fatal.Injuries'][0])"
   ]
  },
  {
   "cell_type": "code",
   "execution_count": null,
   "metadata": {},
   "outputs": [],
   "source": [
    "# Quick spot check to identify NaN value\n",
    "df['Total.Fatal.Injuries']"
   ]
  },
  {
   "cell_type": "code",
   "execution_count": null,
   "metadata": {},
   "outputs": [],
   "source": [
    "# Imputing Fatality values from Injury Severity Column\n",
    "# Using a for loop to iterate over each row to make 'Total.Fatal Injury' value 0 if NaN when Injury.Severity is Non-Fatal\n",
    "for index, row in df.iterrows():\n",
    "    if row['Injury.Severity'] == 'Non-Fatal' and pd.isnull(row['Total.Fatal.Injuries']):\n",
    "        df.at[index, 'Total.Fatal.Injuries'] = 0"
   ]
  },
  {
   "cell_type": "code",
   "execution_count": null,
   "metadata": {
    "scrolled": true
   },
   "outputs": [],
   "source": [
    "# Spot Check\n",
    "df.head()"
   ]
  },
  {
   "cell_type": "code",
   "execution_count": null,
   "metadata": {
    "scrolled": false
   },
   "outputs": [],
   "source": [
    "# Checking NaN values by counting sum of isna() for each column\n",
    "nan_values = df.isna()\n",
    "\n",
    "nan_counts = nan_values.sum()\n",
    "\n",
    "nan_counts"
   ]
  },
  {
   "cell_type": "code",
   "execution_count": null,
   "metadata": {
    "scrolled": true
   },
   "outputs": [],
   "source": [
    "# Create a boolean mask for rows with NaN values in 'Total.Fatal.Injuries'\n",
    "mask_nan_values = df['Total.Fatal.Injuries'].isna()\n",
    "\n",
    "# Use the boolean mask to select the rows with NaN values\n",
    "rows_with_nan = df[mask_nan_values]\n",
    "\n",
    "# Display the rows with NaN values\n",
    "rows_with_nan\n"
   ]
  },
  {
   "cell_type": "code",
   "execution_count": null,
   "metadata": {
    "scrolled": false
   },
   "outputs": [],
   "source": [
    "# Spot Check NaN values are removed\n",
    "df['Total.Fatal.Injuries']"
   ]
  },
  {
   "cell_type": "code",
   "execution_count": null,
   "metadata": {},
   "outputs": [],
   "source": [
    "df.shape"
   ]
  },
  {
   "cell_type": "code",
   "execution_count": null,
   "metadata": {},
   "outputs": [],
   "source": [
    "# null value check\n",
    "# df.isna().sum()"
   ]
  },
  {
   "cell_type": "code",
   "execution_count": null,
   "metadata": {},
   "outputs": [],
   "source": [
    "# Removing all accidents that happened prior to 1985 since avg lifespan of a plan is 25 years\n",
    "# Converting 'Event.Date' to datetime format for easy manipulation\n",
    "# Using .loc to avoid SettingwithCopyWarning \n",
    "df['Event.Date'] = pd.to_datetime(df.loc[:, 'Event.Date'])\n",
    "mask = df['Event.Date'].dt.year >=1985\n",
    "df_current = df.loc[mask]\n",
    "df_current"
   ]
  },
  {
   "cell_type": "code",
   "execution_count": null,
   "metadata": {},
   "outputs": [],
   "source": [
    "# Checking my code\n",
    "df_1985 = df_current.copy()\n",
    "df_1985['Event.Date'] = pd.to_datetime(df_1985.loc[:, 'Event.Date'])\n",
    "num_rows_before_1985 = (df_1985['Event.Date'].dt.year < 1985).sum()\n",
    "print(\"Number of rows with a date before 1985:\", num_rows_before_1985)\n"
   ]
  },
  {
   "cell_type": "code",
   "execution_count": null,
   "metadata": {
    "scrolled": true
   },
   "outputs": [],
   "source": [
    "# Confirming 'Event.Date' is in Datetime\n",
    "type(df_1985['Event.Date'][0])"
   ]
  },
  {
   "cell_type": "code",
   "execution_count": null,
   "metadata": {
    "scrolled": true
   },
   "outputs": [],
   "source": [
    "# Determining all unique values for 'Aircraft.Damage'\n",
    "df_1985['Aircraft.damage'].unique()"
   ]
  },
  {
   "cell_type": "code",
   "execution_count": null,
   "metadata": {},
   "outputs": [],
   "source": [
    "# Imputing 'Aircraft.Damage' value\n",
    "df_1985['Total.Uninjured'] = pd.to_numeric(df_1985['Total.Uninjured'], errors='coerce')\n",
    "condition = df_1985['Total.Uninjured'] >= 1\n",
    "df_1985.loc[condition, 'Aircraft.damage'] = 'Minor'"
   ]
  },
  {
   "cell_type": "code",
   "execution_count": null,
   "metadata": {},
   "outputs": [],
   "source": [
    "# Removes all rows where 'Total.Fatal.Injuries' is NaN\n",
    "df_1985 = df_1985.dropna(subset=['Total.Fatal.Injuries'], axis=0)\n",
    "# Ensuring all values in the 'Total.Fatal.Injuries' column are integers\n",
    "df_1985['Total.Fatal.Injuries'] = df_1985['Total.Fatal.Injuries'].astype(int)"
   ]
  },
  {
   "cell_type": "code",
   "execution_count": null,
   "metadata": {
    "scrolled": true
   },
   "outputs": [],
   "source": [
    "# Calculating the mean of 'Total.Fatal.Injuries for each accident'\n",
    "df_1985['Total.Fatal.Injuries'].mean()"
   ]
  },
  {
   "cell_type": "code",
   "execution_count": null,
   "metadata": {},
   "outputs": [],
   "source": [
    "# Removing all rows with NaN in the 'Make' and 'Model columns'\n",
    "df_1985 = df_1985.dropna(subset=['Make', 'Model'])"
   ]
  },
  {
   "cell_type": "code",
   "execution_count": null,
   "metadata": {},
   "outputs": [],
   "source": [
    "# Checking how many unique 'Model' values there are\n",
    "df_1985['Model'].nunique()"
   ]
  },
  {
   "cell_type": "code",
   "execution_count": null,
   "metadata": {},
   "outputs": [],
   "source": [
    "#df_1985.shape"
   ]
  },
  {
   "cell_type": "code",
   "execution_count": null,
   "metadata": {
    "scrolled": true
   },
   "outputs": [],
   "source": [
    "# Cleaning up 'Model' values to reduce redundancy\n",
    "df_1985.loc[df_1985['Model'] == '108 3', 'Model'] = '108-3'\n",
    "df_1985.loc[df_1985['Model'] == '100 180', 'Model'] = '100-180'\n",
    "df_1985.loc[df_1985['Model'] == '108 1', 'Model'] = '108-1'\n",
    "df_1985.loc[df_1985['Model'] == '114 B', 'Model'] = '114-B'\n",
    "df_1985.loc[df_1985['Model'] == '114B', 'Model'] = '114-B'\n",
    "df_1985.loc[df_1985['Model'] == '14 19', 'Model'] = '14-19'\n",
    "df_1985.loc[df_1985['Model'] == '150 - F', 'Model'] = '150-F'\n",
    "df_1985.loc[df_1985['Model'] == '150 - G', 'Model'] = '150-G'\n",
    "df_1985.loc[df_1985['Model'] == '164B', 'Model'] = '164-B'\n",
    "df_1985.loc[df_1985['Model'] == '17 30', 'Model'] = '17-30'\n",
    "df_1985.loc[df_1985['Model'] == '17 30A', 'Model'] = '17-30A'\n",
    "df_1985.loc[df_1985['Model'] == '17 31A', 'Model'] = '17-31A'\n",
    "df_1985.loc[df_1985['Model'] == '17 30', 'Model'] = '17-30'\n",
    "df_1985.loc[df_1985['Model'] == '170 B', 'Model'] = '170-B'\n",
    "df_1985.loc[df_1985['Model'] == '170 - B', 'Model'] = '170-B'\n",
    "df_1985.loc[df_1985['Model'] == '170B', 'Model'] = '170-B'\n",
    "df_1985.loc[df_1985['Model'] == '172 M', 'Model'] = '172-M'\n",
    "df_1985.loc[df_1985['Model'] == '172 - M', 'Model'] = '172-M'\n",
    "df_1985.loc[df_1985['Model'] == '172M', 'Model'] = '172-M'\n",
    "df_1985.loc[df_1985['Model'] == '172P', 'Model'] = '172-P'\n",
    "df_1985.loc[df_1985['Model'] == '172 P', 'Model'] = '172-P'\n",
    "df_1985.loc[df_1985['Model'] == '172N', 'Model'] = '172-N'\n",
    "df_1985.loc[df_1985['Model'] == '172 N', 'Model'] = '172-N'\n",
    "df_1985.loc[df_1985['Model'] == '172A', 'Model'] = '172-A'\n",
    "df_1985.loc[df_1985['Model'] == '172 A', 'Model'] = '172-A'\n",
    "df_1985.loc[df_1985['Model'] == '172S', 'Model'] = '172-S'\n",
    "df_1985.loc[df_1985['Model'] == '172 S', 'Model'] = '172-S'\n",
    "df_1985.loc[df_1985['Model'] == '172F', 'Model'] = '172-F'\n",
    "df_1985.loc[df_1985['Model'] == '172 - F', 'Model'] = '172-F'\n",
    "df_1985.loc[df_1985['Model'] == '172 - H', 'Model'] = '172-H'\n",
    "df_1985.loc[df_1985['Model'] == '172H', 'Model'] = '172-H'\n",
    "df_1985.loc[df_1985['Model'] == '172 - S', 'Model'] = '172-S'\n",
    "df_1985.loc[df_1985['Model'] == '172 - P', 'Model'] = '172-P'\n",
    "df_1985.loc[df_1985['Model'] == '172 - N', 'Model'] = '172-N'\n",
    "df_1985.loc[df_1985['Model'] == '172 K', 'Model'] = '172-K'\n",
    "df_1985.loc[df_1985['Model'] == '172K', 'Model'] = '172-K'\n",
    "df_1985.loc[df_1985['Model'] == '172 - R', 'Model'] = '172-R'\n",
    "df_1985.loc[df_1985['Model'] == '172R', 'Model'] = '172-R'\n",
    "df_1985.loc[df_1985['Model'] == '172RG', 'Model'] = '172-RG'\n",
    "df_1985.loc[df_1985['Model'] == '172 RG', 'Model'] = '172-RG'\n",
    "df_1985.loc[df_1985['Model'] == '172SP', 'Model'] = '172-SP'\n",
    "df_1985.loc[df_1985['Model'] == '172 SP', 'Model'] = '172-SP'\n",
    "df_1985.loc[df_1985['Model'] == '1730A', 'Model'] = '1730-A'\n",
    "df_1985.loc[df_1985['Model'] == '1730 - A', 'Model'] = '1730-A'\n",
    "df_1985.loc[df_1985['Model'] == '172B', 'Model'] = '172-B'\n",
    "df_1985.loc[df_1985['Model'] == '172C', 'Model'] = '172-C'\n",
    "df_1985.loc[df_1985['Model'] == '172D', 'Model'] = '172-D'\n",
    "df_1985.loc[df_1985['Model'] == '172E', 'Model'] = '172-E'\n",
    "df_1985.loc[df_1985['Model'] == '172G', 'Model'] = '172-G'\n",
    "df_1985.loc[df_1985['Model'] == '172I', 'Model'] = '172-I'\n",
    "df_1985.loc[df_1985['Model'] == '172L', 'Model'] = '172-L'\n",
    "df_1985.loc[df_1985['Model'] == '172Q', 'Model'] = '172-Q'\n",
    "df_1985.loc[df_1985['Model'] == '172XP', 'Model'] = '172-XP'\n",
    "df_1985.loc[df_1985['Model'] == '175A', 'Model'] = '175-A'\n",
    "df_1985.loc[df_1985['Model'] == '175B', 'Model'] = '175-B'\n",
    "df_1985.loc[df_1985['Model'] == '175C', 'Model'] = '175-C'\n",
    "df_1985.loc[df_1985['Model'] == '177 RG', 'Model'] = '177-RG'\n",
    "df_1985.loc[df_1985['Model'] == '177RG', 'Model'] = '177-RG'\n",
    "df_1985.loc[df_1985['Model'] == '177A', 'Model'] = '177-A'\n",
    "df_1985.loc[df_1985['Model'] == '177B', 'Model'] = '177-B'\n",
    "df_1985.loc[df_1985['Model'] == '180 - B', 'Model'] = '180-B'\n",
    "df_1985.loc[df_1985['Model'] == '180 H', 'Model'] = '180-H'\n",
    "df_1985.loc[df_1985['Model'] == '180A', 'Model'] = '180-A'\n",
    "df_1985.loc[df_1985['Model'] == '180 H', 'Model'] = '180-H'\n",
    "df_1985.loc[df_1985['Model'] == '180A', 'Model'] = '180-A'\n",
    "df_1985.loc[df_1985['Model'] == '180B', 'Model'] = '180-B'\n",
    "df_1985.loc[df_1985['Model'] == '180C', 'Model'] = '180-C'\n",
    "df_1985.loc[df_1985['Model'] == '180D', 'Model'] = '180-D'\n",
    "df_1985.loc[df_1985['Model'] == '180E', 'Model'] = '180-E'\n",
    "df_1985.loc[df_1985['Model'] == '180F', 'Model'] = '180-F'\n",
    "df_1985.loc[df_1985['Model'] == '180G', 'Model'] = '180-G'\n",
    "df_1985.loc[df_1985['Model'] == '180J', 'Model'] = '180-J'\n",
    "df_1985.loc[df_1985['Model'] == '180H', 'Model'] = '180-H'\n",
    "df_1985.loc[df_1985['Model'] == '180J', 'Model'] = '180-J'\n",
    "df_1985.loc[df_1985['Model'] == '180K', 'Model'] = '180-K'\n",
    "df_1985.loc[df_1985['Model'] == '180M', 'Model'] = '180-M'\n",
    "df_1985.loc[df_1985['Model'] == '185E', 'Model'] = '185-E'\n",
    "df_1985.loc[df_1985['Model'] == '185 - E', 'Model'] = '180-E'\n",
    "df_1985.loc[df_1985['Model'] == '206 - H', 'Model'] = '206-H'\n",
    "df_1985.loc[df_1985['Model'] == '206H', 'Model'] = '206-H'\n",
    "df_1985.loc[df_1985['Model'] == '210 5', 'Model'] = '210-5'\n",
    "df_1985.loc[df_1985['Model'] == '210 5(205)', 'Model'] = '210-5(205)'\n",
    "df_1985.loc[df_1985['Model'] == '210N', 'Model'] = '210-N'\n",
    "df_1985.loc[df_1985['Model'] == '210 - N', 'Model'] = '210-N'\n",
    "df_1985.loc[df_1985['Model'] == '210D', 'Model'] = '210-D'\n",
    "df_1985.loc[df_1985['Model'] == '210 D', 'Model'] = '210-D'\n",
    "df_1985.loc[df_1985['Model'] == '210A', 'Model'] = '210-A'\n",
    "df_1985.loc[df_1985['Model'] == '210B', 'Model'] = '210-B'\n",
    "df_1985.loc[df_1985['Model'] == '210C', 'Model'] = '210-C'\n",
    "df_1985.loc[df_1985['Model'] == '210E', 'Model'] = '210-E'\n",
    "df_1985.loc[df_1985['Model'] == '210F', 'Model'] = '210-F'\n",
    "df_1985.loc[df_1985['Model'] == '210G', 'Model'] = '210-G'\n",
    "df_1985.loc[df_1985['Model'] == '210H', 'Model'] = '210-H'\n",
    "df_1985.loc[df_1985['Model'] == '210J', 'Model'] = '210-J'\n",
    "df_1985.loc[df_1985['Model'] == '210K', 'Model'] = '210-K'\n",
    "df_1985.loc[df_1985['Model'] == '210L', 'Model'] = '210-L'\n",
    "df_1985.loc[df_1985['Model'] == '210M', 'Model'] = '210-M'\n",
    "df_1985.loc[df_1985['Model'] == '2T 1A', 'Model'] = '2T-1A'\n",
    "df_1985.loc[df_1985['Model'] == '2T1A', 'Model'] = '2T-1A'\n",
    "df_1985.loc[df_1985['Model'] == '2T 1A 2', 'Model'] = '2T-1A-2'\n",
    "df_1985.loc[df_1985['Model'] == '305 A', 'Model'] = '305-A'\n",
    "df_1985.loc[df_1985['Model'] == '305A', 'Model'] = '305-A'\n",
    "df_1985.loc[df_1985['Model'] == '305C', 'Model'] = '305-C'\n",
    "df_1985.loc[df_1985['Model'] == '35 33', 'Model'] = '35-33'\n",
    "df_1985.loc[df_1985['Model'] == '35 A33', 'Model'] = '35-A33'\n",
    "df_1985.loc[df_1985['Model'] == '35A33', 'Model'] = '35-A33'\n",
    "df_1985.loc[df_1985['Model'] == '35 B33', 'Model'] = '35-B33'\n",
    "df_1985.loc[df_1985['Model'] == '35B33', 'Model'] = '35-B33'\n",
    "df_1985.loc[df_1985['Model'] == '35C33', 'Model'] = '35-C33'\n",
    "df_1985.loc[df_1985['Model'] == '35 C33', 'Model'] = '35-C33'\n",
    "df_1985.loc[df_1985['Model'] == '35 - A', 'Model'] = '35-A'\n",
    "df_1985.loc[df_1985['Model'] == '35A', 'Model'] = '35-A'\n",
    "df_1985.loc[df_1985['Model'] == '415 C', 'Model'] = '415-C'\n",
    "df_1985.loc[df_1985['Model'] == '415C', 'Model'] = '415-C'\n",
    "df_1985.loc[df_1985['Model'] == '415 CD', 'Model'] = '415-CD'\n",
    "df_1985.loc[df_1985['Model'] == '415 C/D', 'Model'] = '415-CD'\n",
    "df_1985.loc[df_1985['Model'] == '415-C/D', 'Model'] = '415-CD'\n",
    "df_1985.loc[df_1985['Model'] == '415 D', 'Model'] = '415-D'\n",
    "df_1985.loc[df_1985['Model'] == '415D', 'Model'] = '415-D'\n",
    "df_1985.loc[df_1985['Model'] == '415G', 'Model'] = '415-G'\n",
    "df_1985.loc[df_1985['Model'] == '421 - C', 'Model'] = '421-C'\n",
    "df_1985.loc[df_1985['Model'] == '421C', 'Model'] = '421-C'\n",
    "df_1985.loc[df_1985['Model'] == '500 - B', 'Model'] = '500-B'\n",
    "df_1985.loc[df_1985['Model'] == '500 B', 'Model'] = '500-B'\n",
    "df_1985.loc[df_1985['Model'] == '500B', 'Model'] = '500-B'\n",
    "df_1985.loc[df_1985['Model'] == '500 S', 'Model'] = '500-S'\n",
    "df_1985.loc[df_1985['Model'] == '560 - XL', 'Model'] = '560-XL'\n",
    "df_1985.loc[df_1985['Model'] == '560XL', 'Model'] = '560-XL'\n",
    "df_1985.loc[df_1985['Model'] == '402A', 'Model'] = 'AT-402A'\n",
    "df_1985.loc[df_1985['Model'] == '402B', 'Model'] = 'AT-402B'\n",
    "df_1985.loc[df_1985['Model'] == 'S2-R', 'Model'] = 'S2R'\n",
    "df_1985.loc[df_1985['Model'] == 'S-2R', 'Model'] = 'S2R'\n",
    "df_1985.loc[df_1985['Model'] == 'SR2', 'Model'] = 'S2R'\n",
    "df_1985.loc[df_1985['Model'] == 'CH2000', 'Model'] = 'CH-2000'\n",
    "df_1985.loc[df_1985['Model'] == 'CH 2000', 'Model'] = 'CH-2000'\n",
    "df_1985.loc[df_1985['Model'] == 'A1A', 'Model'] = 'A-1A'\n",
    "df_1985.loc[df_1985['Model'] == 'A1-A', 'Model'] = 'A-1A'\n",
    "df_1985.loc[df_1985['Model'] == 'Husky A1-B', 'Model'] = 'Husky A-1B'\n",
    "df_1985.loc[df_1985['Model'] == 'SR22', 'Model'] = 'SR-22'\n",
    "df_1985.loc[df_1985['Model'] == 'YMF 5C', 'Model'] = 'YMF-5C'\n",
    "df_1985.loc[df_1985['Model'] == 'Gulfstream AM G-164B', 'Model'] = 'G-164B'\n",
    "model_counts = df_1985['Model'].value_counts().sort_index()\n",
    "model_counts"
   ]
  },
  {
   "cell_type": "code",
   "execution_count": null,
   "metadata": {
    "scrolled": true
   },
   "outputs": [],
   "source": [
    "# Removed 78 redundant 'Model' values\n",
    "df_1985['Model'].nunique()"
   ]
  },
  {
   "cell_type": "code",
   "execution_count": null,
   "metadata": {
    "scrolled": true
   },
   "outputs": [],
   "source": [
    "df_1985['Make'].nunique()"
   ]
  },
  {
   "cell_type": "code",
   "execution_count": null,
   "metadata": {},
   "outputs": [],
   "source": [
    "# Consolidating 'Make' values\n",
    "df_1985['Make'].fillna('', inplace=True)\n",
    "df_1985.loc[df_1985['Make'].str.contains('Cessna', case=False), 'Make'] = 'CESSNA'\n",
    "df_1985.loc[df_1985['Make'].str.contains('Piper', case=False), 'Make'] = 'PIPER'\n",
    "df_1985.loc[df_1985['Make'].str.contains('Beechcraft|Beech', case=False), 'Make'] = 'BEECH'\n",
    "df_1985.loc[df_1985['Make'].str.contains('Boeing|Boeing Stearman', case=False), 'Make'] = 'BOEING'\n",
    "df_1985.loc[df_1985['Make'].str.contains('Air tractor', case=False), 'Make'] = 'AIR TRACTOR'\n",
    "df_1985.loc[df_1985['Make'].str.contains('Mooney', case=False), 'Make'] = 'MOONEY'\n",
    "df_1985.loc[df_1985['Make'].str.contains('CIRRUS', case=False), 'Make'] = 'CIRRUS'\n",
    "df_1985.loc[df_1985['Make'].str.contains('American', case=False), 'Make'] = 'AMERICAN'\n",
    "df_1985.loc[df_1985['Make'].str.contains('Airbus', case=False), 'Make'] = 'AIRBUS'\n",
    "df_1985.loc[df_1985['Make'].str.contains('Grumman', case=False), 'Make'] = 'GRUMMAN'\n",
    "df_1985.loc[df_1985['Make'].str.contains('Bellanca', case=False), 'Make'] = 'BELLANCA'\n",
    "df_1985.loc[df_1985['Make'].str.contains('Maule', case=False), 'Make'] = 'MAULE'\n",
    "df_1985.loc[df_1985['Make'].str.contains('Aeronca', case=False), 'Make'] = 'AERONCA'\n",
    "df_1985.loc[df_1985['Make'].str.contains('Embraer', case=False), 'Make'] = 'EMBAER'\n",
    "df_1985.loc[df_1985['Make'].str.contains('Champion', case=False), 'Make'] = 'CHAMPION'\n",
    "df_1985.loc[df_1985['Make'].str.contains('Luscombe', case=False), 'Make'] = 'LUSCOMBE'\n",
    "df_1985.loc[df_1985['Make'].str.contains('Stinson', case=False), 'Make'] = 'STINSON'\n",
    "df_1985.loc[df_1985['Make'].str.contains('TaylorCraft', case=False), 'Make'] = 'TAYLORCRAFT'\n",
    "df_1985.loc[df_1985['Make'].str.contains('Dehavilland|De havilland', case=False), 'Make'] = 'DEHAVILLAND'\n",
    "df_1985.loc[df_1985['Make'].str.contains('Ayres', case=False), 'Make'] = 'AYRES'\n",
    "df_1985.loc[df_1985['Make'].str.contains('Raytheon', case=False), 'Make'] = 'RAYTHEON'\n",
    "df_1985.loc[df_1985['Make'].str.contains('Diamond Aircraft', case=False), 'Make'] = 'DIAMOND AIRCRAFT'\n",
    "df_1985.loc[df_1985['Make'].str.contains('Grumman Schweizer', case=False), 'Make'] = 'GRUMMAN-SCHWEIZER'\n",
    "df_1985.loc[df_1985['Make'].str.contains('Gulfstream-Schweizer|Gulfstream Schweizer', case=False), 'Make'] = 'GULFSTREAM-SCHWEIZER'\n",
    "df_1985.loc[df_1985['Make'].str.contains('Gulfstream American', case=False), 'Make'] = 'GULFSTREAM AMERICAN'\n",
    "df_1985.loc[df_1985['Make'].str.contains('Ted Aerostar', case=False), 'Make'] = 'AEROSTAR'\n",
    "df_1985.loc[df_1985['Make'].str.contains('Lockheed', case=False), 'Make'] = 'LOCKHEED'\n",
    "df_1985.loc[df_1985['Make'].str.contains('Gulfstream Aerospace|Gulfstream', case=False), 'Make'] = 'GULFSTREAM'\n",
    "df_1985.loc[df_1985['Make'].str.contains('Northrop', case=False), 'Make'] = 'NORTHROP'\n",
    "df_1985.loc[df_1985['Make'].str.contains('Helio', case=False), 'Make'] = 'HELIO'\n",
    "df_1985.loc[df_1985['Make'].str.contains('Canadair', case=False), 'Make'] = 'CANADAIR'\n",
    "df_1985.loc[df_1985['Make'].str.contains('Learjet', case=False), 'Make'] = 'LEARJET'\n",
    "df_1985.loc[df_1985['Make'].str.contains('Volmer', case=False), 'Make'] = 'VOLMER'\n",
    "df_1985.loc[df_1985['Make'].str.contains('Ryan', case=False), 'Make'] = 'RYAN'\n",
    "df_1985.loc[df_1985['Make'].str.contains('Britten', case=False), 'Make'] = 'BRITTEN-NORMAN'\n",
    "df_1985.loc[df_1985['Make'].str.contains('Howard', case=False), 'Make'] = 'HOWARD'\n",
    "df_1985.loc[df_1985['Make'].str.contains('British Airways', case=False), 'Make'] = 'BRITISH AIRWAYS'\n",
    "df_1985.loc[df_1985['Make'].str.contains('British Aerospace', case=False), 'Make'] = 'BRITISH AEROSPACE'\n",
    "df_1985.loc[df_1985['Make'].str.contains('Textron', case=False), 'Make'] = 'TEXTRON'\n",
    "df_1985.loc[df_1985['Make'].str.contains('Aviat', case=False), 'Make'] = 'AVIAT'\n",
    "df_1985.loc[df_1985['Make'].str.contains('Waco', case=False), 'Make'] = 'WACO'\n",
    "df_1985.loc[df_1985['Make'].str.contains('Quicksilver', case=False), 'Make'] = 'QUICKSILVER'\n",
    "df_1985.loc[df_1985['Make'].str.contains('Cub', case=False), 'Make'] = 'CUB CRAFTERS'\n",
    "df_1985.loc[df_1985['Make'].str.contains('Bombardier', case=False), 'Make'] = 'BOMBARDIER'\n",
    "df_1985.loc[df_1985['Make'].str.contains('Dassault', case=False), 'Make'] = 'DASSAULT'\n",
    "df_1985.loc[df_1985['Make'].str.contains('Found A', case=False), 'Make'] = 'FOUND AIRCRAFT'\n",
    "df_1985.loc[df_1985['Make'].str.contains('Ercoupe', case=False), 'Make'] = 'ERCOUPE'\n",
    "df_1985.loc[df_1985['Make'].str.contains('Extra Flugzeugbau', case=False), 'Make'] = 'EXTRA FLUGZEUGBAU'\n",
    "df_1985.loc[df_1985['Make'].str.contains('Evektor', case=False), 'Make'] = 'EVEKTOR'\n",
    "df_1985.loc[df_1985['Make'].str.contains('Flight Design', case=False), 'Make'] = 'FLIGHT DESIGN'"
   ]
  },
  {
   "cell_type": "code",
   "execution_count": null,
   "metadata": {},
   "outputs": [],
   "source": [
    "# Fill missing values in 'Engine.Type' with a placeholder value (e.g., 'Unknown')\n",
    "df_1985.loc[:, 'Engine.Type'].fillna('Unknown', inplace=True)\n",
    "\n",
    "# Replace 'Engine.Type' values containing 'Turbo' (case-insensitive) with 'TURBO'\n",
    "df_1985.loc[df_1985['Engine.Type'].str.contains('Turbo', case=False), 'Engine.Type'] = 'TURBO'\n"
   ]
  },
  {
   "cell_type": "code",
   "execution_count": null,
   "metadata": {
    "scrolled": true
   },
   "outputs": [],
   "source": [
    "# Viewing top 35 most common 'Model' values\n",
    "model_frequency = df_1985['Model'].value_counts()\n",
    "model_frequency[:35]"
   ]
  },
  {
   "cell_type": "code",
   "execution_count": null,
   "metadata": {
    "scrolled": true
   },
   "outputs": [],
   "source": [
    "# Viewing top 35 most common 'Make' values\n",
    "make_frequency = df_1985['Make'].value_counts()\n",
    "make_frequency[:35]"
   ]
  },
  {
   "cell_type": "code",
   "execution_count": null,
   "metadata": {},
   "outputs": [],
   "source": [
    "#removing outliers\n",
    "df_1985 = df_1985.drop(df_1985[df_1985['Model'].isin(['747-300', '767-200ER'])].index)"
   ]
  },
  {
   "cell_type": "code",
   "execution_count": null,
   "metadata": {},
   "outputs": [],
   "source": [
    "# Removed 332 redundant 'Make' values\n",
    "df_1985['Make'].nunique()"
   ]
  },
  {
   "cell_type": "code",
   "execution_count": null,
   "metadata": {
    "scrolled": true
   },
   "outputs": [],
   "source": [
    "# New shape.  Removed 64,472 rows  with NaN values\n",
    "#df_1985.shape"
   ]
  },
  {
   "cell_type": "markdown",
   "metadata": {},
   "source": [
    "# Data Analysis"
   ]
  },
  {
   "cell_type": "markdown",
   "metadata": {},
   "source": [
    "* Checking for trends in data\n",
    "* Creating new volumn 'Make_Model' for enhanced readability and analysis\n",
    "* Running groupby to determine any aggregate values\n",
    "* Specifically targeting frequency of planes in df_1985, 'Total.Fatal.Injuries,' 'Total.Uninjured,' 'Engine.Type,' and 'Number.of.Engines'"
   ]
  },
  {
   "cell_type": "code",
   "execution_count": null,
   "metadata": {},
   "outputs": [],
   "source": [
    "# Viewing Distrobution of 'Total.Fatal.Injuries' values\n",
    "plt.hist(df_1985['Total.Fatal.Injuries'], bins=50, edgecolor='black')\n",
    "\n",
    "plt.xlabel('Value')\n",
    "plt.ylabel('Frequency')\n",
    "plt.title('Distribution of Total Fatal Injuries')\n",
    "\n",
    "plt.show()"
   ]
  },
  {
   "cell_type": "code",
   "execution_count": null,
   "metadata": {},
   "outputs": [],
   "source": [
    "#df_1985.shape"
   ]
  },
  {
   "cell_type": "code",
   "execution_count": null,
   "metadata": {
    "scrolled": true
   },
   "outputs": [],
   "source": [
    "# Plotting 'Total.Fatal.Injuries' over time\n",
    "df_1985['Total.Fatal.Injuries'] = pd.to_numeric(df_1985['Total.Fatal.Injuries'], errors='coerce')\n",
    "\n",
    "df_resampled = df_1985.resample('Y', on='Event.Date')['Total.Fatal.Injuries'].sum()\n",
    "\n",
    "plt.plot(df_resampled.index, df_resampled)\n",
    "plt.xlabel('Year')\n",
    "plt.ylabel('Total Fatal Injuries')\n",
    "plt.title('Time Series Graph: Total Fatal Injuries per Year')\n",
    "plt.show()"
   ]
  },
  {
   "cell_type": "code",
   "execution_count": null,
   "metadata": {},
   "outputs": [],
   "source": [
    "#df_1985.shape"
   ]
  },
  {
   "cell_type": "code",
   "execution_count": null,
   "metadata": {
    "scrolled": true
   },
   "outputs": [],
   "source": [
    "df_1985 = df_1985[df_1985[\"Publication.Date\"].notna()]\n",
    "df_1985"
   ]
  },
  {
   "cell_type": "code",
   "execution_count": null,
   "metadata": {},
   "outputs": [],
   "source": [
    "#df_1985.shape"
   ]
  },
  {
   "cell_type": "code",
   "execution_count": null,
   "metadata": {},
   "outputs": [],
   "source": [
    "# Loading in State Abbreviations\n",
    "dfa = pd.read_csv('data/USState_Codes.csv',\n",
    "                 encoding='Latin-1',\n",
    "                 low_memory=False,\n",
    "                 dtype=str)  \n",
    "dfa.head()"
   ]
  },
  {
   "cell_type": "code",
   "execution_count": null,
   "metadata": {
    "scrolled": false
   },
   "outputs": [],
   "source": [
    "df_1985.loc[:, 'Total.Fatal.Injuries'] = pd.to_numeric(df_1985['Total.Fatal.Injuries'], errors = 'coerce')\n",
    "dfi_1985 = df_1985[df_1985['Total.Fatal.Injuries']>= 1]\n",
    "dfi_1985.head()"
   ]
  },
  {
   "cell_type": "code",
   "execution_count": null,
   "metadata": {},
   "outputs": [],
   "source": [
    "#df_1985.shape"
   ]
  },
  {
   "cell_type": "code",
   "execution_count": null,
   "metadata": {
    "scrolled": true
   },
   "outputs": [],
   "source": [
    "make_frequency = df_1985['Make'].value_counts()\n",
    "make_frequency"
   ]
  },
  {
   "cell_type": "code",
   "execution_count": null,
   "metadata": {},
   "outputs": [],
   "source": [
    "# Checking 'Total.Fatal.Injuries' for a specific 'Model'\n",
    "specific_model = '152'\n",
    "fatalities_with_specific_model = df_1985[df_1985['Model'] == specific_model]['Total.Fatal.Injuries'].sum()\n",
    "\n",
    "fatalities_with_specific_model"
   ]
  },
  {
   "cell_type": "code",
   "execution_count": null,
   "metadata": {},
   "outputs": [],
   "source": [
    "# Viewing 'Total.Fatal.Injuries' by 'Model'\n",
    "fatalities_by_model = df_1985.groupby('Model')['Total.Fatal.Injuries'].sum()\n",
    "fatalities_by_model = fatalities_by_model.sort_values(ascending=False)\n",
    "fatalities_by_model"
   ]
  },
  {
   "cell_type": "code",
   "execution_count": null,
   "metadata": {},
   "outputs": [],
   "source": [
    "# Viewing 'Total.Fatal.Injuries' by 'Make'\n",
    "fatalities_by_make = df_1985.groupby('Make')['Total.Fatal.Injuries'].sum()\n",
    "fatalities_by_make = fatalities_by_make.sort_values(ascending=False)\n",
    "fatalities_by_make"
   ]
  },
  {
   "cell_type": "code",
   "execution_count": null,
   "metadata": {
    "scrolled": true
   },
   "outputs": [],
   "source": [
    "Engine_numbers = df_1985['Number.of.Engines'].value_counts()\n",
    "Engine_numbers"
   ]
  },
  {
   "cell_type": "code",
   "execution_count": null,
   "metadata": {},
   "outputs": [],
   "source": [
    "FAR_description = df_1985['FAR.Description'].value_counts()\n",
    "FAR_description"
   ]
  },
  {
   "cell_type": "code",
   "execution_count": null,
   "metadata": {},
   "outputs": [],
   "source": [
    "weather_condition = df_1985['Weather.Condition'].value_counts()\n",
    "weather_condition"
   ]
  },
  {
   "cell_type": "code",
   "execution_count": null,
   "metadata": {},
   "outputs": [],
   "source": [
    "weather_impact = df_1985.groupby('Weather.Condition')['Total.Fatal.Injuries'].sum()\n",
    "weather_impact = weather_impact.sort_values(ascending=False)\n",
    "weather_impact"
   ]
  },
  {
   "cell_type": "code",
   "execution_count": null,
   "metadata": {
    "scrolled": false
   },
   "outputs": [],
   "source": [
    "# Where do crashes happen most frequently \n",
    "#df_1985['Broad.phase.of.flight'].value_counts()"
   ]
  },
  {
   "cell_type": "code",
   "execution_count": null,
   "metadata": {
    "scrolled": true
   },
   "outputs": [],
   "source": [
    "#Showing which Broad.phase.of.flight has the most fatal injuries\n",
    "grouped_df = df_1985.groupby('Broad.phase.of.flight')['Total.Fatal.Injuries'].sum()\n",
    "fatalaties_by_phase = grouped_df.sort_values(ascending=False)\n",
    "fatalaties_by_phase[:12]"
   ]
  },
  {
   "cell_type": "code",
   "execution_count": null,
   "metadata": {
    "scrolled": false
   },
   "outputs": [],
   "source": [
    "# Viewing how often each 'Make' experiences a specific level of 'Aircraft.damage'\n",
    "specific_damage_counts = df_1985.groupby(['Make', 'Aircraft.damage']).size()\n",
    "specific_damage_counts_sorted = specific_damage_counts.sort_values(ascending=False)\n",
    "specific_damage_counts_sorted[:25]"
   ]
  },
  {
   "cell_type": "code",
   "execution_count": null,
   "metadata": {},
   "outputs": [],
   "source": [
    "#Total.Fatal.Injuries by Aircraft.Damage\n",
    "Damage_Fatal = df_1985.groupby('Aircraft.damage')['Total.Fatal.Injuries'].sum()\n",
    "fatalaties_by_Damage = Damage_Fatal.sort_values(ascending=False)\n",
    "fatalaties_by_Damage"
   ]
  },
  {
   "cell_type": "code",
   "execution_count": null,
   "metadata": {
    "scrolled": true
   },
   "outputs": [],
   "source": [
    "#Total.Fatal.Injuries by Weather.Condition\n",
    "Weather_Fatal = df_1985.groupby('Weather.Condition')['Total.Fatal.Injuries'].sum()\n",
    "fatalaties_by_Weather = Weather_Fatal.sort_values(ascending=False)\n",
    "fatalaties_by_Weather"
   ]
  },
  {
   "cell_type": "code",
   "execution_count": null,
   "metadata": {
    "scrolled": true
   },
   "outputs": [],
   "source": [
    "#Total.Fatal.Injuries by Make\n",
    "Make_Fatal = df_1985.groupby('Make')['Total.Fatal.Injuries'].sum()\n",
    "fatalaties_by_Make = Make_Fatal.sort_values(ascending=False)\n",
    "fatalaties_by_Make[:25]"
   ]
  },
  {
   "cell_type": "code",
   "execution_count": null,
   "metadata": {
    "scrolled": true
   },
   "outputs": [],
   "source": [
    "#Total.Fatal.Injuries by 'Make_Model'\n",
    "df_1985.loc[:, 'Make_Model'] = df_1985.loc[:, 'Make'] + '_' + df_1985.loc[:, 'Model']\n",
    "Model_Fatal = df_1985.groupby('Make_Model')['Total.Fatal.Injuries'].sum()\n",
    "fatalaties_by_Model = Model_Fatal.sort_values(ascending=False)\n",
    "fatalaties_by_Model[:50]"
   ]
  },
  {
   "cell_type": "code",
   "execution_count": null,
   "metadata": {
    "scrolled": true
   },
   "outputs": [],
   "source": [
    "grouped_by_make = df_1985.groupby('Make')['Model'].unique()\n",
    "\n",
    "for make, models in grouped_by_make.items():\n",
    "    print(f\"Make: {make}\")\n",
    "    print(\"Models:\")\n",
    "    for model in models:\n",
    "        print(f\"  - {model}\")\n",
    "    print()"
   ]
  },
  {
   "cell_type": "code",
   "execution_count": null,
   "metadata": {},
   "outputs": [],
   "source": [
    "df_1985['Make_Model'].value_counts()[:25]"
   ]
  },
  {
   "cell_type": "code",
   "execution_count": null,
   "metadata": {},
   "outputs": [],
   "source": [
    "# Count the occurrences of each 'Make_Model' combination\n",
    "make_model_counts = df_1985['Make_Model'].value_counts()\n",
    "\n",
    "# Sort the values in descending order and select the top 50 entries (you can change the number as needed)\n",
    "top_50_counts = make_model_counts.sort_values(ascending=False)[:50]\n",
    "\n",
    "# Set up the figure and axes\n",
    "fig, ax = plt.subplots(figsize=(12, 6))\n",
    "\n",
    "# Create the bar plot\n",
    "ax.bar(top_50_counts.index, top_50_counts.values)\n",
    "\n",
    "# Rotate the x-axis labels for better visibility\n",
    "plt.xticks(rotation=90)\n",
    "\n",
    "# Set labels and title\n",
    "ax.set_xlabel('Make_Model')\n",
    "ax.set_ylabel('Counts')\n",
    "ax.set_title('Top 50 Make_Model Combinations by Count')\n",
    "\n",
    "# Show the plot\n",
    "plt.tight_layout()\n",
    "plt.show()\n",
    "\n"
   ]
  },
  {
   "cell_type": "code",
   "execution_count": null,
   "metadata": {},
   "outputs": [],
   "source": [
    "#df_1985.shape"
   ]
  },
  {
   "cell_type": "code",
   "execution_count": null,
   "metadata": {
    "scrolled": false
   },
   "outputs": [],
   "source": [
    "# Filter the DataFrame to include only rows with the desired 'Make'\n",
    "specific_make = 'BOEING'\n",
    "chart_df = df_1985[df_1985['Make'] == specific_make].copy()  # Make a copy to avoid the SettingWithCopyWarning\n",
    "\n",
    "# Combine 'Make' and 'Model' columns to create a new column representing the combination\n",
    "chart_df['Make_Model'] = chart_df['Make'] + '_' + chart_df['Model']\n",
    "\n",
    "# Count the occurrences of each 'Make_Model' combination\n",
    "make_model_counts = chart_df['Make_Model'].value_counts()\n",
    "\n",
    "# Sort the values in descending order and select all entries\n",
    "all_make_model_counts = make_model_counts.sort_values(ascending=False)[:25]\n",
    "\n",
    "# Set up the figure and axes\n",
    "fig, ax = plt.subplots(figsize=(12, 6))\n",
    "\n",
    "# Create the bar plot\n",
    "ax.bar(all_make_model_counts.index, all_make_model_counts.values)\n",
    "\n",
    "# Rotate the x-axis labels for better visibility\n",
    "plt.xticks(rotation=90)\n",
    "\n",
    "# Set labels and title\n",
    "ax.set_xlabel('Make_Model')\n",
    "ax.set_ylabel('Counts')\n",
    "ax.set_title(f'Model Counts for {specific_make}')\n",
    "\n",
    "# Show the plot\n",
    "plt.tight_layout()\n",
    "plt.show()\n",
    "\n"
   ]
  },
  {
   "cell_type": "code",
   "execution_count": null,
   "metadata": {},
   "outputs": [],
   "source": [
    "# Filter the DataFrame to include only rows with the desired 'Make'\n",
    "specific_make = 'AIRBUS'\n",
    "chart_df = df_1985[df_1985['Make'] == specific_make].copy()  # Make a copy to avoid the SettingWithCopyWarning\n",
    "\n",
    "# Combine 'Make' and 'Model' columns to create a new column representing the combination\n",
    "chart_df['Make_Model'] = chart_df['Make'] + '_' + chart_df['Model']\n",
    "\n",
    "# Count the occurrences of each 'Make_Model' combination\n",
    "make_model_counts = chart_df['Make_Model'].value_counts()\n",
    "\n",
    "# Sort the values in descending order and select all entries\n",
    "all_make_model_counts = make_model_counts.sort_values(ascending=False)[:25]\n",
    "\n",
    "# Set up the figure and axes\n",
    "fig, ax = plt.subplots(figsize=(12, 6))\n",
    "\n",
    "# Create the bar plot\n",
    "ax.bar(all_make_model_counts.index, all_make_model_counts.values)\n",
    "\n",
    "# Rotate the x-axis labels for better visibility\n",
    "plt.xticks(rotation=90)\n",
    "\n",
    "# Set labels and title\n",
    "ax.set_xlabel('Make_Model')\n",
    "ax.set_ylabel('Counts')\n",
    "ax.set_title(f'Model Counts for {specific_make}')\n",
    "\n",
    "# Show the plot\n",
    "plt.tight_layout()\n",
    "plt.show()\n"
   ]
  },
  {
   "cell_type": "code",
   "execution_count": null,
   "metadata": {},
   "outputs": [],
   "source": [
    "# Filter the DataFrame to include only rows with the desired 'Make'\n",
    "specific_make = 'CESSNA'\n",
    "chart_df = df_1985[df_1985['Make'] == specific_make].copy()  # Make a copy to avoid the SettingWithCopyWarning\n",
    "\n",
    "# Combine 'Make' and 'Model' columns to create a new column representing the combination\n",
    "chart_df['Make_Model'] = chart_df['Make'] + '_' + chart_df['Model']\n",
    "\n",
    "# Count the occurrences of each 'Make_Model' combination\n",
    "make_model_counts = chart_df['Make_Model'].value_counts()\n",
    "\n",
    "# Sort the values in descending order and select all entries\n",
    "all_make_model_counts = make_model_counts.sort_values(ascending=False)[:25]\n",
    "\n",
    "# Set up the figure and axes\n",
    "fig, ax = plt.subplots(figsize=(12, 6))\n",
    "\n",
    "# Create the bar plot\n",
    "ax.bar(all_make_model_counts.index, all_make_model_counts.values)\n",
    "\n",
    "# Rotate the x-axis labels for better visibility\n",
    "plt.xticks(rotation=90)\n",
    "\n",
    "# Set labels and title\n",
    "ax.set_xlabel('Make_Model')\n",
    "ax.set_ylabel('Counts')\n",
    "ax.set_title(f'Model Counts for {specific_make}')\n",
    "\n",
    "# Show the plot\n",
    "plt.tight_layout()\n",
    "plt.show()\n"
   ]
  },
  {
   "cell_type": "code",
   "execution_count": null,
   "metadata": {
    "scrolled": false
   },
   "outputs": [],
   "source": [
    "specific_make = 'PIPER'\n",
    "chart_df = df_1985[df_1985['Make'] == specific_make].copy()  # Make a copy to avoid the SettingWithCopyWarning\n",
    "\n",
    "# Combine 'Make' and 'Model' columns to create a new column representing the combination\n",
    "chart_df['Make_Model'] = chart_df['Make'] + '_' + chart_df['Model']\n",
    "\n",
    "# Count the occurrences of each 'Make_Model' combination\n",
    "make_model_counts = chart_df['Make_Model'].value_counts()\n",
    "\n",
    "# Sort the values in descending order and select all entries\n",
    "all_make_model_counts = make_model_counts.sort_values(ascending=False)[:25]\n",
    "\n",
    "# Set up the figure and axes\n",
    "fig, ax = plt.subplots(figsize=(12, 6))\n",
    "\n",
    "# Create the bar plot\n",
    "ax.bar(all_make_model_counts.index, all_make_model_counts.values)\n",
    "\n",
    "# Rotate the x-axis labels for better visibility\n",
    "plt.xticks(rotation=90)\n",
    "\n",
    "# Set labels and title\n",
    "ax.set_xlabel('Make_Model')\n",
    "ax.set_ylabel('Counts')\n",
    "ax.set_title(f'Model Counts for {specific_make}')\n",
    "\n",
    "# Show the plot\n",
    "plt.tight_layout()\n",
    "plt.show()"
   ]
  },
  {
   "cell_type": "code",
   "execution_count": null,
   "metadata": {},
   "outputs": [],
   "source": [
    "# Filter the DataFrame to include only rows with the desired 'Make'\n",
    "specific_make = 'BEECH'\n",
    "chart_df = df_1985[df_1985['Make'] == specific_make].copy()  # Make a copy to avoid the SettingWithCopyWarning\n",
    "\n",
    "# Combine 'Make' and 'Model' columns to create a new column representing the combination\n",
    "chart_df['Make_Model'] = chart_df['Make'] + '_' + chart_df['Model']\n",
    "\n",
    "# Count the occurrences of each 'Make_Model' combination\n",
    "make_model_counts = chart_df['Make_Model'].value_counts()\n",
    "\n",
    "# Sort the values in descending order and select all entries\n",
    "all_make_model_counts = make_model_counts.sort_values(ascending=False)[:25]\n",
    "\n",
    "# Set up the figure and axes\n",
    "fig, ax = plt.subplots(figsize=(12, 6))\n",
    "\n",
    "# Create the bar plot\n",
    "ax.bar(all_make_model_counts.index, all_make_model_counts.values)\n",
    "\n",
    "# Rotate the x-axis labels for better visibility\n",
    "plt.xticks(rotation=90)\n",
    "\n",
    "# Set labels and title\n",
    "ax.set_xlabel('Make_Model')\n",
    "ax.set_ylabel('Counts')\n",
    "ax.set_title(f'Model Counts for {specific_make}')\n",
    "\n",
    "# Show the plot\n",
    "plt.tight_layout()\n",
    "plt.show()"
   ]
  },
  {
   "cell_type": "code",
   "execution_count": null,
   "metadata": {
    "scrolled": false
   },
   "outputs": [],
   "source": [
    "# Group the DataFrame by 'Make' and 'Model' and calculate the sum of 'Total.Fatal.Injuries' for each group\n",
    "make_model_fatal_injuries = df_1985.groupby(['Make', 'Model'])['Total.Fatal.Injuries'].sum()\n",
    "make_model_fatal_injuries_sorted = make_model_fatal_injuries.sort_values(ascending=False)[:25]\n",
    "\n",
    "# Create a new column 'Make_Model' by combining 'Make' and 'Model'\n",
    "make_model_fatal_injuries_sorted.index = make_model_fatal_injuries_sorted.index.map(lambda x: f'{x[0]} - {x[1]}')\n",
    "fig, ax = plt.subplots(figsize=(12, 6))\n",
    "ax.bar(make_model_fatal_injuries_sorted.index, make_model_fatal_injuries_sorted.values)\n",
    "plt.xticks(rotation=90)\n",
    "\n",
    "ax.set_xlabel('Make - Model')\n",
    "ax.set_ylabel('Total Fatal Injuries')\n",
    "ax.set_title('Total Fatal Injuries by Make and Model')\n",
    "\n",
    "plt.tight_layout()\n",
    "plt.show()\n",
    "\n"
   ]
  },
  {
   "cell_type": "code",
   "execution_count": null,
   "metadata": {},
   "outputs": [],
   "source": [
    "# Filter the DataFrame to include only rows with the desired 'Make'\n",
    "specific_make = 'BOEING'\n",
    "chart_df = df_1985[df_1985['Make'] == specific_make].copy()  # Make a copy to avoid the SettingWithCopyWarning\n",
    "\n",
    "# Group the DataFrame by 'Make_Model' and calculate the sum of 'Total.Fatal.Injuries' for each 'Make_Model'\n",
    "make_model_fatal_injuries = chart_df.groupby('Make_Model')['Total.Fatal.Injuries'].sum()\n",
    "\n",
    "# Sort the values in descending order\n",
    "make_model_fatal_injuries_sorted = make_model_fatal_injuries.sort_values(ascending=False)[:25]\n",
    "\n",
    "# Set up the figure and axes\n",
    "fig, ax = plt.subplots(figsize=(12, 6))\n",
    "\n",
    "# Create the bar plot\n",
    "ax.bar(make_model_fatal_injuries_sorted.index, make_model_fatal_injuries_sorted.values)\n",
    "\n",
    "# Rotate the x-axis labels for better visibility\n",
    "plt.xticks(rotation=90)\n",
    "\n",
    "# Set labels and title\n",
    "ax.set_xlabel('Make_Model')\n",
    "ax.set_ylabel('Total Fatal Injuries')\n",
    "ax.set_title(f'Total Fatal Injuries by Make_Model for {specific_make}')\n",
    "\n",
    "# Show the plot\n",
    "plt.tight_layout()\n",
    "plt.show()\n"
   ]
  },
  {
   "cell_type": "code",
   "execution_count": null,
   "metadata": {
    "scrolled": false
   },
   "outputs": [],
   "source": [
    "specific_make = 'AIRBUS'\n",
    "chart_df = df_1985[df_1985['Make'] == specific_make].copy()  # Make a copy to avoid the SettingWithCopyWarning\n",
    "\n",
    "# Group the DataFrame by 'Make_Model' and calculate the sum of 'Total.Fatal.Injuries' for each 'Make_Model'\n",
    "make_model_fatal_injuries = chart_df.groupby('Make_Model')['Total.Fatal.Injuries'].sum()\n",
    "\n",
    "# Sort the values in descending order\n",
    "make_model_fatal_injuries_sorted = make_model_fatal_injuries.sort_values(ascending=False)[:25]\n",
    "\n",
    "# Set up the figure and axes\n",
    "fig, ax = plt.subplots(figsize=(12, 6))\n",
    "\n",
    "# Create the bar plot\n",
    "ax.bar(make_model_fatal_injuries_sorted.index, make_model_fatal_injuries_sorted.values)\n",
    "\n",
    "# Rotate the x-axis labels for better visibility\n",
    "plt.xticks(rotation=90)\n",
    "\n",
    "# Set labels and title\n",
    "ax.set_xlabel('Make_Model')\n",
    "ax.set_ylabel('Total Fatal Injuries')\n",
    "ax.set_title(f'Total Fatal Injuries by Make_Model for {specific_make}')\n",
    "\n",
    "# Show the plot\n",
    "plt.tight_layout()\n",
    "plt.show()\n"
   ]
  },
  {
   "cell_type": "code",
   "execution_count": null,
   "metadata": {
    "scrolled": false
   },
   "outputs": [],
   "source": [
    "specific_make = 'CESSNA'\n",
    "chart_df = df_1985[df_1985['Make'] == specific_make].copy()  # Make a copy to avoid the SettingWithCopyWarning\n",
    "\n",
    "# Group the DataFrame by 'Make_Model' and calculate the sum of 'Total.Fatal.Injuries' for each 'Make_Model'\n",
    "make_model_fatal_injuries = chart_df.groupby('Make_Model')['Total.Fatal.Injuries'].sum()\n",
    "\n",
    "# Sort the values in descending order\n",
    "make_model_fatal_injuries_sorted = make_model_fatal_injuries.sort_values(ascending=False)[:25]\n",
    "\n",
    "# Set up the figure and axes\n",
    "fig, ax = plt.subplots(figsize=(12, 6))\n",
    "\n",
    "# Create the bar plot\n",
    "ax.bar(make_model_fatal_injuries_sorted.index, make_model_fatal_injuries_sorted.values)\n",
    "\n",
    "# Rotate the x-axis labels for better visibility\n",
    "plt.xticks(rotation=90)\n",
    "\n",
    "# Set labels and title\n",
    "ax.set_xlabel('Make_Model')\n",
    "ax.set_ylabel('Total Fatal Injuries')\n",
    "ax.set_title(f'Total Fatal Injuries by Make_Model for {specific_make}')\n",
    "\n",
    "# Show the plot\n",
    "plt.tight_layout()\n",
    "plt.show()\n"
   ]
  },
  {
   "cell_type": "code",
   "execution_count": null,
   "metadata": {
    "scrolled": false
   },
   "outputs": [],
   "source": [
    "# Filter the DataFrame to include only rows with the desired 'Make'\n",
    "specific_make = 'PIPER'\n",
    "chart_df = df_1985[df_1985['Make'] == specific_make].copy()  # Make a copy to avoid the SettingWithCopyWarning\n",
    "\n",
    "# Group the DataFrame by 'Make_Model' and calculate the sum of 'Total.Fatal.Injuries' for each 'Make_Model'\n",
    "make_model_fatal_injuries = chart_df.groupby('Make_Model')['Total.Fatal.Injuries'].sum()\n",
    "\n",
    "# Sort the values in descending order\n",
    "make_model_fatal_injuries_sorted = make_model_fatal_injuries.sort_values(ascending=False)[:25]\n",
    "\n",
    "# Set up the figure and axes\n",
    "fig, ax = plt.subplots(figsize=(12, 6))\n",
    "\n",
    "# Create the bar plot\n",
    "ax.bar(make_model_fatal_injuries_sorted.index, make_model_fatal_injuries_sorted.values)\n",
    "\n",
    "# Rotate the x-axis labels for better visibility\n",
    "plt.xticks(rotation=90)\n",
    "\n",
    "# Set labels and title\n",
    "ax.set_xlabel('Make_Model')\n",
    "ax.set_ylabel('Total Fatal Injuries')\n",
    "ax.set_title(f'Total Fatal Injuries by Make_Model for {specific_make}')\n",
    "\n",
    "# Show the plot\n",
    "plt.tight_layout()\n",
    "plt.show()\n"
   ]
  },
  {
   "cell_type": "code",
   "execution_count": null,
   "metadata": {
    "scrolled": true
   },
   "outputs": [],
   "source": [
    "# Filter the DataFrame to include only rows with the desired 'Make'\n",
    "specific_make = 'BEECH'\n",
    "chart_df = df_1985[df_1985['Make'] == specific_make].copy()  # Make a copy to avoid the SettingWithCopyWarning\n",
    "\n",
    "# Group the DataFrame by 'Make_Model' and calculate the sum of 'Total.Fatal.Injuries' for each 'Make_Model'\n",
    "make_model_fatal_injuries = chart_df.groupby('Make_Model')['Total.Fatal.Injuries'].sum()\n",
    "\n",
    "# Sort the values in descending order\n",
    "make_model_fatal_injuries_sorted = make_model_fatal_injuries.sort_values(ascending=False)[:25]\n",
    "\n",
    "# Set up the figure and axes\n",
    "fig, ax = plt.subplots(figsize=(12, 6))\n",
    "\n",
    "# Create the bar plot\n",
    "ax.bar(make_model_fatal_injuries_sorted.index, make_model_fatal_injuries_sorted.values)\n",
    "\n",
    "# Rotate the x-axis labels for better visibility\n",
    "plt.xticks(rotation=90)\n",
    "\n",
    "# Set labels and title\n",
    "ax.set_xlabel('Make_Model')\n",
    "ax.set_ylabel('Total Fatal Injuries')\n",
    "ax.set_title(f'Total Fatal Injuries by Make_Model for {specific_make}')\n",
    "\n",
    "# Show the plot\n",
    "plt.tight_layout()\n",
    "plt.show()\n",
    "\n"
   ]
  },
  {
   "cell_type": "code",
   "execution_count": null,
   "metadata": {},
   "outputs": [],
   "source": [
    "# Filter the DataFrame to include only rows with the desired 'Make'\n",
    "specific_make = 'BOEING'\n",
    "chart_df = df_1985[df_1985['Make'] == specific_make].copy()  # Make a copy to avoid the SettingWithCopyWarning\n",
    "\n",
    "# Group the DataFrame by 'Make_Model' and calculate the average of 'Total.Fatal.Injuries' for each 'Make_Model'\n",
    "make_model_avg_fatal_injuries = chart_df.groupby('Make_Model')['Total.Fatal.Injuries'].mean()\n",
    "\n",
    "# Sort the values in descending order\n",
    "make_model_avg_fatal_injuries_sorted = make_model_avg_fatal_injuries.sort_values(ascending=False)[:25]\n",
    "\n",
    "# Set up the figure and axes\n",
    "fig, ax = plt.subplots(figsize=(12, 6))\n",
    "\n",
    "# Create the bar plot\n",
    "ax.bar(make_model_avg_fatal_injuries_sorted.index, make_model_avg_fatal_injuries_sorted.values)\n",
    "\n",
    "# Rotate the x-axis labels for better visibility\n",
    "plt.xticks(rotation=90)\n",
    "\n",
    "# Set labels and title\n",
    "ax.set_xlabel('Make_Model')\n",
    "ax.set_ylabel('Average Fatal Injuries per Crash')\n",
    "ax.set_title(f'Average Fatal Injuries per Crash by Make_Model for {specific_make}')\n",
    "\n",
    "# Show the plot\n",
    "plt.tight_layout()\n",
    "plt.show()\n"
   ]
  },
  {
   "cell_type": "code",
   "execution_count": null,
   "metadata": {},
   "outputs": [],
   "source": [
    "# Filter the DataFrame to include only rows with the desired 'Make'\n",
    "specific_make = 'AIRBUS'\n",
    "chart_df = df_1985[df_1985['Make'] == specific_make].copy()  # Make a copy to avoid the SettingWithCopyWarning\n",
    "\n",
    "# Group the DataFrame by 'Make_Model' and calculate the average of 'Total.Fatal.Injuries' for each 'Make_Model'\n",
    "make_model_avg_fatal_injuries = chart_df.groupby('Make_Model')['Total.Fatal.Injuries'].mean()\n",
    "\n",
    "# Sort the values in descending order\n",
    "make_model_avg_fatal_injuries_sorted = make_model_avg_fatal_injuries.sort_values(ascending=False)[:25]\n",
    "\n",
    "# Set up the figure and axes\n",
    "fig, ax = plt.subplots(figsize=(12, 6))\n",
    "\n",
    "# Create the bar plot\n",
    "ax.bar(make_model_avg_fatal_injuries_sorted.index, make_model_avg_fatal_injuries_sorted.values)\n",
    "\n",
    "# Rotate the x-axis labels for better visibility\n",
    "plt.xticks(rotation=90)\n",
    "\n",
    "# Set labels and title\n",
    "ax.set_xlabel('Make_Model')\n",
    "ax.set_ylabel('Average Fatal Injuries per Crash')\n",
    "ax.set_title(f'Average Fatal Injuries per Crash by Make_Model for {specific_make}')\n",
    "\n",
    "# Show the plot\n",
    "plt.tight_layout()\n",
    "plt.show()\n"
   ]
  },
  {
   "cell_type": "code",
   "execution_count": null,
   "metadata": {
    "scrolled": false
   },
   "outputs": [],
   "source": [
    "# Filter the DataFrame to include only rows with the desired 'Make'\n",
    "specific_make = 'CESSNA'\n",
    "chart_df = df_1985[df_1985['Make'] == specific_make].copy()  # Make a copy to avoid the SettingWithCopyWarning\n",
    "\n",
    "# Group the DataFrame by 'Make_Model' and calculate the average of 'Total.Fatal.Injuries' for each 'Make_Model'\n",
    "make_model_avg_fatal_injuries = chart_df.groupby('Make_Model')['Total.Fatal.Injuries'].mean()\n",
    "\n",
    "# Sort the values in descending order\n",
    "make_model_avg_fatal_injuries_sorted = make_model_avg_fatal_injuries.sort_values(ascending=False)[:25]\n",
    "\n",
    "# Set up the figure and axes\n",
    "fig, ax = plt.subplots(figsize=(12, 6))\n",
    "\n",
    "# Create the bar plot\n",
    "ax.bar(make_model_avg_fatal_injuries_sorted.index, make_model_avg_fatal_injuries_sorted.values)\n",
    "\n",
    "# Rotate the x-axis labels for better visibility\n",
    "plt.xticks(rotation=90)\n",
    "\n",
    "# Set labels and title\n",
    "ax.set_xlabel('Make_Model')\n",
    "ax.set_ylabel('Average Fatal Injuries per Crash')\n",
    "ax.set_title(f'Average Fatal Injuries per Crash by Make_Model for {specific_make}')\n",
    "\n",
    "# Show the plot\n",
    "plt.tight_layout()\n",
    "plt.show()\n"
   ]
  },
  {
   "cell_type": "code",
   "execution_count": null,
   "metadata": {
    "scrolled": false
   },
   "outputs": [],
   "source": [
    "# Filter the DataFrame to include only rows with the desired 'Make'\n",
    "specific_make = 'PIPER'\n",
    "chart_df = df_1985[df_1985['Make'] == specific_make].copy()  # Make a copy to avoid the SettingWithCopyWarning\n",
    "\n",
    "# Group the DataFrame by 'Make_Model' and calculate the average of 'Total.Fatal.Injuries' for each 'Make_Model'\n",
    "make_model_avg_fatal_injuries = chart_df.groupby('Make_Model')['Total.Fatal.Injuries'].mean()\n",
    "\n",
    "# Sort the values in descending order\n",
    "make_model_avg_fatal_injuries_sorted = make_model_avg_fatal_injuries.sort_values(ascending=False)[:25]\n",
    "\n",
    "# Set up the figure and axes\n",
    "fig, ax = plt.subplots(figsize=(12, 6))\n",
    "\n",
    "# Create the bar plot\n",
    "ax.bar(make_model_avg_fatal_injuries_sorted.index, make_model_avg_fatal_injuries_sorted.values)\n",
    "\n",
    "# Rotate the x-axis labels for better visibility\n",
    "plt.xticks(rotation=90)\n",
    "\n",
    "# Set labels and title\n",
    "ax.set_xlabel('Make_Model')\n",
    "ax.set_ylabel('Average Fatal Injuries per Crash')\n",
    "ax.set_title(f'Average Fatal Injuries per Crash by Make_Model for {specific_make}')\n",
    "\n",
    "# Show the plot\n",
    "plt.tight_layout()\n",
    "plt.show()\n"
   ]
  },
  {
   "cell_type": "code",
   "execution_count": null,
   "metadata": {},
   "outputs": [],
   "source": [
    "# Filter the DataFrame to include only rows with the desired 'Make'\n",
    "specific_make = 'BEECH'\n",
    "chart_df = df_1985[df_1985['Make'] == specific_make].copy()  # Make a copy to avoid the SettingWithCopyWarning\n",
    "\n",
    "# Group the DataFrame by 'Make_Model' and calculate the average of 'Total.Fatal.Injuries' for each 'Make_Model'\n",
    "make_model_avg_fatal_injuries = chart_df.groupby('Make_Model')['Total.Fatal.Injuries'].mean()\n",
    "\n",
    "# Sort the values in descending order\n",
    "make_model_avg_fatal_injuries_sorted = make_model_avg_fatal_injuries.sort_values(ascending=False)[:25]\n",
    "\n",
    "# Set up the figure and axes\n",
    "fig, ax = plt.subplots(figsize=(12, 6))\n",
    "\n",
    "# Create the bar plot\n",
    "ax.bar(make_model_avg_fatal_injuries_sorted.index, make_model_avg_fatal_injuries_sorted.values)\n",
    "\n",
    "# Rotate the x-axis labels for better visibility\n",
    "plt.xticks(rotation=90)\n",
    "\n",
    "# Set labels and title\n",
    "ax.set_xlabel('Make_Model')\n",
    "ax.set_ylabel('Average Fatal Injuries per Crash')\n",
    "ax.set_title(f'Average Fatal Injuries per Crash by Make_Model for {specific_make}')\n",
    "\n",
    "# Show the plot\n",
    "plt.tight_layout()\n",
    "plt.show()\n"
   ]
  },
  {
   "cell_type": "code",
   "execution_count": null,
   "metadata": {},
   "outputs": [],
   "source": [
    "# Set up the figure and axes\n",
    "fig, ax = plt.subplots(figsize=(12, 6))\n",
    "\n",
    "# Use seaborn's bar plot to compare 'Engine.Type' and 'Total.Fatal.Injuries'\n",
    "sns.barplot(x='Engine.Type', y='Total.Fatal.Injuries', data=df_1985, ax=ax, estimator=sum, ci=None)\n",
    "\n",
    "# Set labels and title\n",
    "ax.set_xlabel('Engine Type')\n",
    "ax.set_ylabel('Total Fatal Injuries')\n",
    "ax.set_title('Total Fatal Injuries by Engine Type')\n",
    "\n",
    "# Rotate the x-axis labels for better visibility\n",
    "plt.xticks(rotation=45)\n",
    "\n",
    "# Show the plot\n",
    "plt.tight_layout()\n",
    "plt.show()\n"
   ]
  },
  {
   "cell_type": "code",
   "execution_count": null,
   "metadata": {},
   "outputs": [],
   "source": [
    "# Group the DataFrame by 'Number.of.Engines' and calculate the sum of 'Total.Fatal.Injuries' for each group\n",
    "engine_injuries_sum = df_1985.groupby('Number.of.Engines')['Total.Fatal.Injuries'].sum()\n",
    "\n",
    "# Set up the figure and axes\n",
    "fig, ax = plt.subplots(figsize=(10, 6))\n",
    "\n",
    "# Create the bar plot\n",
    "ax.bar(engine_injuries_sum.index, engine_injuries_sum.values)\n",
    "\n",
    "# Set labels and title\n",
    "ax.set_xlabel('Number of Engines')\n",
    "ax.set_ylabel('Total Fatal Injuries')\n",
    "ax.set_title('Total Fatal Injuries by Number of Engines')\n",
    "\n",
    "# Show the plot\n",
    "plt.tight_layout()\n",
    "plt.show()\n"
   ]
  },
  {
   "cell_type": "code",
   "execution_count": null,
   "metadata": {},
   "outputs": [],
   "source": [
    "# Group the DataFrame by 'Make_Model' and calculate the sum of 'Total.Fatal.Injuries' for each 'Make_Model'\n",
    "make_model_fatal_injuries = df_1985.groupby('Make_Model')['Total.Fatal.Injuries'].sum()\n",
    "\n",
    "# Get the value counts of 'Make_Model' to represent occurrences\n",
    "make_model_value_counts = df_1985['Make_Model'].value_counts()\n",
    "\n",
    "# Combine the two Series into a DataFrame\n",
    "result_df = pd.DataFrame({'Occurrences': make_model_value_counts, 'Total.Fatal.Injuries': make_model_fatal_injuries})\n",
    "\n",
    "# Calculate the average of 'Total.Fatal.Injuries' for each 'Make_Model'\n",
    "result_df['Average.Fatal.Injuries'] = result_df['Total.Fatal.Injuries'] / result_df['Occurrences']\n",
    "\n",
    "# Sort the DataFrame by average of 'Total.Fatal.Injuries' in ascending order\n",
    "result_df = result_df.sort_values(by='Average.Fatal.Injuries', ascending=False)\n",
    "\n",
    "# Display the resulting DataFrame\n",
    "result_df[:50]\n"
   ]
  },
  {
   "cell_type": "code",
   "execution_count": null,
   "metadata": {},
   "outputs": [],
   "source": [
    "# Group the DataFrame by 'Make_Model' and calculate the sum of 'Total.Fatal.Injuries' for each 'Make_Model'\n",
    "make_model_fatal_injuries = df_1985.groupby('Make_Model')['Total.Fatal.Injuries'].sum()\n",
    "\n",
    "# Get the value counts of 'Make_Model' to represent occurrences\n",
    "make_model_value_counts = df_1985['Make_Model'].value_counts()\n",
    "\n",
    "# Combine the two Series into a DataFrame\n",
    "result_df = pd.DataFrame({'Crashes': make_model_value_counts, 'Total.Fatal.Injuries': make_model_fatal_injuries})\n",
    "\n",
    "# Calculate the average of 'Total.Fatal.Injuries' for each 'Make_Model'\n",
    "result_df['Average.Fatal.Injuries'] = result_df['Total.Fatal.Injuries'] / result_df['Crashes']\n",
    "result_df = result_df.sort_values(by=['Crashes', 'Average.Fatal.Injuries'], ascending=[False, False])\n",
    "\n",
    "result_df[:25]"
   ]
  },
  {
   "cell_type": "code",
   "execution_count": null,
   "metadata": {},
   "outputs": [],
   "source": [
    "# Crash/Fatal Injury data on top\n",
    "top_25_occurrences = result_df.nlargest(25, 'Crashes')\n",
    "lowest_avg_fatal_injuries = top_25_occurrences.nsmallest(25, 'Average.Fatal.Injuries')\n",
    "\n",
    "lowest_avg_fatal_injuries[:25]"
   ]
  },
  {
   "cell_type": "code",
   "execution_count": null,
   "metadata": {},
   "outputs": [],
   "source": [
    "# Group the DataFrame by 'Model' and calculate the sum of 'Total.Uninjured' for each 'Model'\n",
    "model_uninjured = df_1985.groupby('Make_Model')['Total.Uninjured'].sum()\n",
    "most_uninjured_models = model_uninjured.sort_values(ascending=False)\n",
    "\n",
    "most_uninjured_models[:25]\n"
   ]
  },
  {
   "cell_type": "code",
   "execution_count": null,
   "metadata": {
    "scrolled": false
   },
   "outputs": [],
   "source": [
    "# Convert 'Model' column to string to avoid potential issues with plotting\n",
    "df_1985['Model'] = df_1985['Model'].astype(str)\n",
    "\n",
    "# Fill missing values in 'Aircraft.damage' column with 'Unknown'\n",
    "df_1985['Aircraft.damage'].fillna('Unknown', inplace=True)\n",
    "\n",
    "# Get the top 25 unique 'Model' values based on their counts\n",
    "top_25_models = df_1985['Model'].value_counts().nlargest(25).index\n",
    "\n",
    "# Filter the DataFrame to include only the top 25 'Model' values\n",
    "df_top_25_models = df_1985[df_1985['Model'].isin(top_25_models)]\n",
    "\n",
    "# Set up the figure and axes\n",
    "fig, ax = plt.subplots(figsize=(12, 6))\n",
    "\n",
    "# Use seaborn's countplot to create the bar chart\n",
    "sns.countplot(x='Model', hue='Aircraft.damage', data=df_top_25_models, ax=ax, palette='viridis',\n",
    "              order=top_25_models)  # Specify the order of x-axis labels\n",
    "\n",
    "# Rotate the x-axis labels for better visibility\n",
    "plt.xticks(rotation=90)\n",
    "\n",
    "# Set labels and title\n",
    "ax.set_xlabel('Model')\n",
    "ax.set_ylabel('Count')\n",
    "ax.set_title('Count of Aircraft Damage by Top 25 Models')\n",
    "\n",
    "# Show the plot\n",
    "plt.tight_layout()\n",
    "plt.show()\n",
    "\n"
   ]
  },
  {
   "cell_type": "markdown",
   "metadata": {},
   "source": [
    "# Conclusions"
   ]
  },
  {
   "cell_type": "markdown",
   "metadata": {},
   "source": [
    "## Recommendations"
   ]
  },
  {
   "cell_type": "markdown",
   "metadata": {},
   "source": [
    "- 1-We should target Models with more engines as the more engines on a plane, the less likely Fatal Injuries are to occur.  More Engines means the plane is larger.  We can tell by the frequency of crashes with the BOEING 737 and the amount of 'TotalUninjured' and 'Total.Fatal.Injuries' that the **BOEING 737 is one of the largest planes in our dataset.** \n",
    "- 2-There is a **negative correlation between Turbo engines and Fatal Injuries** as well, indicating that Turbo Engines are much safer than Reciprocating.  BOEING and AIRBUS largely use Turbo fans and CESSNA uses Reciprocating.\n",
    "- 3-Based on the data we have present and a simple review of popularity of Models, the **Cessna 172 has one of the best safety record of planes in this dataset.**  It ranks 25th in most uninjured passengers of all planes."
   ]
  },
  {
   "cell_type": "markdown",
   "metadata": {},
   "source": [
    "## Limitations"
   ]
  },
  {
   "cell_type": "markdown",
   "metadata": {},
   "source": [
    "- This is only crash data, so if a plane theoretically has never crashed before, it would not be in this dataset.\n",
    "- The majority of the rows were not used in final calculations due to so many NaN/missing values.\n",
    "- This data is US based which limits international analysis."
   ]
  },
  {
   "cell_type": "markdown",
   "metadata": {},
   "source": [
    "## Next Steps"
   ]
  },
  {
   "cell_type": "markdown",
   "metadata": {},
   "source": [
    "- Make a deeper analysis of Boeing 737 and Cessna 172.\n",
    "- Analyze cost of maintenence for these 2 planes"
   ]
  },
  {
   "cell_type": "code",
   "execution_count": null,
   "metadata": {},
   "outputs": [],
   "source": [
    "#df_1985.shape"
   ]
  },
  {
   "cell_type": "code",
   "execution_count": null,
   "metadata": {},
   "outputs": [],
   "source": [
    "df_1985.to_csv('edited_aviation_dataset.csv', index=False)"
   ]
  }
 ],
 "metadata": {
  "kernelspec": {
   "display_name": "Python (learn-env)",
   "language": "python",
   "name": "learn-env"
  },
  "language_info": {
   "codemirror_mode": {
    "name": "ipython",
    "version": 3
   },
   "file_extension": ".py",
   "mimetype": "text/x-python",
   "name": "python",
   "nbconvert_exporter": "python",
   "pygments_lexer": "ipython3",
   "version": "3.8.5"
  }
 },
 "nbformat": 4,
 "nbformat_minor": 4
}
